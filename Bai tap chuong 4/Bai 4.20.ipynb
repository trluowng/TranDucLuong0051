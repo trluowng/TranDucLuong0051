{
 "cells": [
  {
   "cell_type": "code",
   "execution_count": 13,
   "metadata": {},
   "outputs": [],
   "source": [
    "import pandas as pd"
   ]
  },
  {
   "cell_type": "code",
   "execution_count": 15,
   "metadata": {},
   "outputs": [
    {
     "name": "stdout",
     "output_type": "stream",
     "text": [
      "   Unnamed: 0            Team  Goals  Shots on target  Shots off target  \\\n",
      "0           0         Croatia      4               13                12   \n",
      "1           1  Czech Republic      4               13                18   \n",
      "2           2         Denmark      4               10                10   \n",
      "3           3         England      5               11                18   \n",
      "4           4          France      3               22                24   \n",
      "\n",
      "  Shooting Accuracy % Goals-to-shots  Total shots (inc. Blocked)  \\\n",
      "0            51.90%           16.00%                          32   \n",
      "1            41.90%           12.90%                          39   \n",
      "2            50.00%           20.00%                          27   \n",
      "3            50.00%           17.20%                          40   \n",
      "4            37.90%            6.50%                          65   \n",
      "\n",
      "   Hit Woodwork  Penalty goals  ...  Saves made  Saves-to-shots ratio  \\\n",
      "0             0              0  ...          13                81.30%   \n",
      "1             0              0  ...           9                60.10%   \n",
      "2             1              0  ...          10                66.70%   \n",
      "3             0              0  ...          22                88.10%   \n",
      "4             1              0  ...           6                54.60%   \n",
      "\n",
      "   Fouls Won  Fouls Conceded Offsides  Yellow Cards  Red Cards  Subs on  \\\n",
      "0         41              62        2             9          0        9   \n",
      "1         53              73        8             7          0       11   \n",
      "2         25              38        8             4          0        7   \n",
      "3         43              45        6             5          0       11   \n",
      "4         36              51        5             6          0       11   \n",
      "\n",
      "   Subs off  Players Used  \n",
      "0         9            16  \n",
      "1        11            19  \n",
      "2         7            15  \n",
      "3        11            16  \n",
      "4        11            19  \n",
      "\n",
      "[5 rows x 36 columns]\n"
     ]
    }
   ],
   "source": [
    "euro2012 = pd.read_csv('euro2012.csv')\n",
    "print(euro2012.head())"
   ]
  },
  {
   "cell_type": "markdown",
   "metadata": {},
   "source": [
    "1. In ra kiểu dữ liệu và kích thước của DataFrame Euro2012"
   ]
  },
  {
   "cell_type": "code",
   "execution_count": 17,
   "metadata": {},
   "outputs": [
    {
     "name": "stdout",
     "output_type": "stream",
     "text": [
      "Kiểu dữ liệu của DataFrame Euro2012:\n",
      "Unnamed: 0                      int64\n",
      "Team                           object\n",
      "Goals                           int64\n",
      "Shots on target                 int64\n",
      "Shots off target                int64\n",
      "Shooting Accuracy              object\n",
      "% Goals-to-shots               object\n",
      "Total shots (inc. Blocked)      int64\n",
      "Hit Woodwork                    int64\n",
      "Penalty goals                   int64\n",
      "Penalties not scored            int64\n",
      "Headed goals                    int64\n",
      "Passes                          int64\n",
      "Passes completed                int64\n",
      "Passing Accuracy               object\n",
      "Touches                         int64\n",
      "Crosses                         int64\n",
      "Dribbles                        int64\n",
      "Corners Taken                   int64\n",
      "Tackles                         int64\n",
      "Clearances                      int64\n",
      "Interceptions                   int64\n",
      "Clearances off line           float64\n",
      "Clean Sheets                    int64\n",
      "Blocks                          int64\n",
      "Goals conceded                  int64\n",
      "Saves made                      int64\n",
      "Saves-to-shots ratio           object\n",
      "Fouls Won                       int64\n",
      "Fouls Conceded                  int64\n",
      "Offsides                        int64\n",
      "Yellow Cards                    int64\n",
      "Red Cards                       int64\n",
      "Subs on                         int64\n",
      "Subs off                        int64\n",
      "Players Used                    int64\n",
      "dtype: object\n",
      "\n",
      "Kích thước của DataFrame Euro2012:\n",
      "(16, 36)\n"
     ]
    }
   ],
   "source": [
    "print(\"Kiểu dữ liệu của DataFrame Euro2012:\")\n",
    "print(euro2012.dtypes)\n",
    "\n",
    "print(\"\\nKích thước của DataFrame Euro2012:\")\n",
    "print(euro2012.shape)"
   ]
  },
  {
   "cell_type": "markdown",
   "metadata": {},
   "source": [
    "2. In giá trị của cột Goals"
   ]
  },
  {
   "cell_type": "code",
   "execution_count": 18,
   "metadata": {},
   "outputs": [
    {
     "name": "stdout",
     "output_type": "stream",
     "text": [
      "\n",
      "Các giá trị của cột Goals:\n",
      "0      4\n",
      "1      4\n",
      "2      4\n",
      "3      5\n",
      "4      3\n",
      "5     10\n",
      "6      5\n",
      "7      6\n",
      "8      2\n",
      "9      2\n",
      "10     6\n",
      "11     1\n",
      "12     5\n",
      "13    12\n",
      "14     5\n",
      "15     2\n",
      "Name: Goals, dtype: int64\n"
     ]
    }
   ],
   "source": [
    "print(\"\\nCác giá trị của cột Goals:\")\n",
    "print(euro2012['Goals'])"
   ]
  },
  {
   "cell_type": "markdown",
   "metadata": {},
   "source": [
    "3. Có bao nhiêu đội tham gia Euro2012?"
   ]
  },
  {
   "cell_type": "code",
   "execution_count": 19,
   "metadata": {},
   "outputs": [
    {
     "name": "stdout",
     "output_type": "stream",
     "text": [
      "\n",
      "Số lượng đội tham gia Euro2012: 16\n"
     ]
    }
   ],
   "source": [
    "print(\"\\nSố lượng đội tham gia Euro2012:\", euro2012['Team'].nunique())"
   ]
  },
  {
   "cell_type": "markdown",
   "metadata": {},
   "source": [
    "4. In thông tin của Euro2012 chỉ chứa 3 cột 'Team', 'Yellow Cards', 'Red Cards'"
   ]
  },
  {
   "cell_type": "code",
   "execution_count": 20,
   "metadata": {},
   "outputs": [
    {
     "name": "stdout",
     "output_type": "stream",
     "text": [
      "\n",
      "Thông tin của Euro2012 với các cột 'Team', 'Yellow Cards', 'Red Cards':\n",
      "                   Team  Yellow Cards  Red Cards\n",
      "0               Croatia             9          0\n",
      "1        Czech Republic             7          0\n",
      "2               Denmark             4          0\n",
      "3               England             5          0\n",
      "4                France             6          0\n",
      "5               Germany             4          0\n",
      "6                Greece             9          1\n",
      "7                 Italy            16          0\n",
      "8           Netherlands             5          0\n",
      "9                Poland             7          1\n",
      "10             Portugal            12          0\n",
      "11  Republic of Ireland             6          1\n",
      "12               Russia             6          0\n",
      "13                Spain            11          0\n",
      "14               Sweden             7          0\n",
      "15              Ukraine             5          0\n"
     ]
    }
   ],
   "source": [
    "print(\"\\nThông tin của Euro2012 với các cột 'Team', 'Yellow Cards', 'Red Cards':\")\n",
    "print(euro2012[['Team', 'Yellow Cards', 'Red Cards']])"
   ]
  },
  {
   "cell_type": "markdown",
   "metadata": {},
   "source": [
    "5. Sắp xếp giảm dần theo 2 cột 'Red Cards', 'Yellow Cards'"
   ]
  },
  {
   "cell_type": "code",
   "execution_count": 21,
   "metadata": {},
   "outputs": [
    {
     "name": "stdout",
     "output_type": "stream",
     "text": [
      "\n",
      "Sắp xếp discipline giảm dần theo 'Red Cards' và 'Yellow Cards':\n",
      "                   Team  Red Cards  Yellow Cards\n",
      "6                Greece          1             9\n",
      "9                Poland          1             7\n",
      "11  Republic of Ireland          1             6\n",
      "7                 Italy          0            16\n",
      "10             Portugal          0            12\n",
      "13                Spain          0            11\n",
      "0               Croatia          0             9\n",
      "1        Czech Republic          0             7\n",
      "14               Sweden          0             7\n",
      "4                France          0             6\n",
      "12               Russia          0             6\n",
      "3               England          0             5\n",
      "8           Netherlands          0             5\n",
      "15              Ukraine          0             5\n",
      "2               Denmark          0             4\n",
      "5               Germany          0             4\n"
     ]
    }
   ],
   "source": [
    "discipline_sap_xep = eurol2[['Team', 'Red Cards', 'Yellow Cards']].sort_values(by=['Red Cards', 'Yellow Cards'], ascending=False)\n",
    "\n",
    "print(\"\\nSắp xếp discipline giảm dần theo 'Red Cards' và 'Yellow Cards':\")\n",
    "print(discipline_sap_xep)"
   ]
  },
  {
   "cell_type": "markdown",
   "metadata": {},
   "source": [
    "6a. Tính trung bình Yellow Cards"
   ]
  },
  {
   "cell_type": "code",
   "execution_count": 22,
   "metadata": {},
   "outputs": [
    {
     "name": "stdout",
     "output_type": "stream",
     "text": [
      "\n",
      "Trung bình Yellow Cards: 7.4375\n"
     ]
    }
   ],
   "source": [
    "trung_binh_yellow_cards = euro2012['Yellow Cards'].mean()\n",
    "\n",
    "print(\"\\nTrung bình Yellow Cards:\", trung_binh_yellow_cards)"
   ]
  },
  {
   "cell_type": "markdown",
   "metadata": {},
   "source": [
    "6b. Lọc các đội đã ghi hơn 6 bàn thắng"
   ]
  },
  {
   "cell_type": "code",
   "execution_count": 23,
   "metadata": {},
   "outputs": [
    {
     "name": "stdout",
     "output_type": "stream",
     "text": [
      "\n",
      "Các đội đã ghi hơn 6 bàn thắng:\n",
      "    Unnamed: 0     Team  Goals  Shots on target  Shots off target  \\\n",
      "5            5  Germany     10               32                32   \n",
      "13          13    Spain     12               42                33   \n",
      "\n",
      "   Shooting Accuracy % Goals-to-shots  Total shots (inc. Blocked)  \\\n",
      "5             47.80%           15.60%                          80   \n",
      "13            55.90%           16.00%                         100   \n",
      "\n",
      "    Hit Woodwork  Penalty goals  ...  Saves made  Saves-to-shots ratio  \\\n",
      "5              2              1  ...          10                62.60%   \n",
      "13             0              1  ...          15                93.80%   \n",
      "\n",
      "    Fouls Won  Fouls Conceded Offsides  Yellow Cards  Red Cards  Subs on  \\\n",
      "5          63              49       12             4          0       15   \n",
      "13        102              83       19            11          0       17   \n",
      "\n",
      "    Subs off  Players Used  \n",
      "5         15            17  \n",
      "13        17            18  \n",
      "\n",
      "[2 rows x 36 columns]\n"
     ]
    }
   ],
   "source": [
    "doi_nhieu_ban_thang = euro2012[euro2012['Goals'] > 6]\n",
    "\n",
    "print(\"\\nCác đội đã ghi hơn 6 bàn thắng:\")\n",
    "print(doi_nhieu_ban_thang)"
   ]
  },
  {
   "cell_type": "markdown",
   "metadata": {},
   "source": [
    "7: In các đội có tên bắt đầu bằng 'G'"
   ]
  },
  {
   "cell_type": "code",
   "execution_count": 24,
   "metadata": {},
   "outputs": [
    {
     "name": "stdout",
     "output_type": "stream",
     "text": [
      "\n",
      "Các đội bắt đầu bằng 'G':\n",
      "   Unnamed: 0     Team  Goals  Shots on target  Shots off target  \\\n",
      "5           5  Germany     10               32                32   \n",
      "6           6   Greece      5                8                18   \n",
      "\n",
      "  Shooting Accuracy % Goals-to-shots  Total shots (inc. Blocked)  \\\n",
      "5            47.80%           15.60%                          80   \n",
      "6            30.70%           19.20%                          32   \n",
      "\n",
      "   Hit Woodwork  Penalty goals  ...  Saves made  Saves-to-shots ratio  \\\n",
      "5             2              1  ...          10                62.60%   \n",
      "6             1              1  ...          13                65.10%   \n",
      "\n",
      "   Fouls Won  Fouls Conceded Offsides  Yellow Cards  Red Cards  Subs on  \\\n",
      "5         63              49       12             4          0       15   \n",
      "6         67              48       12             9          1       12   \n",
      "\n",
      "   Subs off  Players Used  \n",
      "5        15            17  \n",
      "6        12            20  \n",
      "\n",
      "[2 rows x 36 columns]\n"
     ]
    }
   ],
   "source": [
    "doi_bat_dau_bang_G = euro2012[euro2012['Team'].str.startswith('G')]\n",
    "\n",
    "print(\"\\nCác đội bắt đầu bằng 'G':\")\n",
    "print(doi_bat_dau_bang_G)"
   ]
  },
  {
   "cell_type": "markdown",
   "metadata": {},
   "source": [
    "8. In 7 cột đầu của euro2012"
   ]
  },
  {
   "cell_type": "code",
   "execution_count": 25,
   "metadata": {},
   "outputs": [
    {
     "name": "stdout",
     "output_type": "stream",
     "text": [
      "\n",
      "7 cột đầu tiên của DataFrame Euro2012:\n",
      "    Unnamed: 0                 Team  Goals  Shots on target  Shots off target  \\\n",
      "0            0              Croatia      4               13                12   \n",
      "1            1       Czech Republic      4               13                18   \n",
      "2            2              Denmark      4               10                10   \n",
      "3            3              England      5               11                18   \n",
      "4            4               France      3               22                24   \n",
      "5            5              Germany     10               32                32   \n",
      "6            6               Greece      5                8                18   \n",
      "7            7                Italy      6               34                45   \n",
      "8            8          Netherlands      2               12                36   \n",
      "9            9               Poland      2               15                23   \n",
      "10          10             Portugal      6               22                42   \n",
      "11          11  Republic of Ireland      1                7                12   \n",
      "12          12               Russia      5                9                31   \n",
      "13          13                Spain     12               42                33   \n",
      "14          14               Sweden      5               17                19   \n",
      "15          15              Ukraine      2                7                26   \n",
      "\n",
      "   Shooting Accuracy % Goals-to-shots  \n",
      "0             51.90%           16.00%  \n",
      "1             41.90%           12.90%  \n",
      "2             50.00%           20.00%  \n",
      "3             50.00%           17.20%  \n",
      "4             37.90%            6.50%  \n",
      "5             47.80%           15.60%  \n",
      "6             30.70%           19.20%  \n",
      "7             43.00%            7.50%  \n",
      "8             25.00%            4.10%  \n",
      "9             39.40%            5.20%  \n",
      "10            34.30%            9.30%  \n",
      "11            36.80%            5.20%  \n",
      "12            22.50%           12.50%  \n",
      "13            55.90%           16.00%  \n",
      "14            47.20%           13.80%  \n",
      "15            21.20%            6.00%  \n"
     ]
    }
   ],
   "source": [
    "print(\"\\n7 cột đầu tiên của DataFrame Euro2012:\")\n",
    "print(euro2012.iloc[:, :7])"
   ]
  },
  {
   "cell_type": "markdown",
   "metadata": {},
   "source": [
    "9. In tất cả các cột, trừ 3 cột cuối"
   ]
  },
  {
   "cell_type": "code",
   "execution_count": 26,
   "metadata": {},
   "outputs": [
    {
     "name": "stdout",
     "output_type": "stream",
     "text": [
      "\n",
      "Tất cả các cột, loại bỏ 3 cột cuối cùng:\n",
      "    Unnamed: 0                 Team  Goals  Shots on target  Shots off target  \\\n",
      "0            0              Croatia      4               13                12   \n",
      "1            1       Czech Republic      4               13                18   \n",
      "2            2              Denmark      4               10                10   \n",
      "3            3              England      5               11                18   \n",
      "4            4               France      3               22                24   \n",
      "5            5              Germany     10               32                32   \n",
      "6            6               Greece      5                8                18   \n",
      "7            7                Italy      6               34                45   \n",
      "8            8          Netherlands      2               12                36   \n",
      "9            9               Poland      2               15                23   \n",
      "10          10             Portugal      6               22                42   \n",
      "11          11  Republic of Ireland      1                7                12   \n",
      "12          12               Russia      5                9                31   \n",
      "13          13                Spain     12               42                33   \n",
      "14          14               Sweden      5               17                19   \n",
      "15          15              Ukraine      2                7                26   \n",
      "\n",
      "   Shooting Accuracy % Goals-to-shots  Total shots (inc. Blocked)  \\\n",
      "0             51.90%           16.00%                          32   \n",
      "1             41.90%           12.90%                          39   \n",
      "2             50.00%           20.00%                          27   \n",
      "3             50.00%           17.20%                          40   \n",
      "4             37.90%            6.50%                          65   \n",
      "5             47.80%           15.60%                          80   \n",
      "6             30.70%           19.20%                          32   \n",
      "7             43.00%            7.50%                         110   \n",
      "8             25.00%            4.10%                          60   \n",
      "9             39.40%            5.20%                          48   \n",
      "10            34.30%            9.30%                          82   \n",
      "11            36.80%            5.20%                          28   \n",
      "12            22.50%           12.50%                          59   \n",
      "13            55.90%           16.00%                         100   \n",
      "14            47.20%           13.80%                          39   \n",
      "15            21.20%            6.00%                          38   \n",
      "\n",
      "    Hit Woodwork  Penalty goals  ...  Clean Sheets  Blocks  Goals conceded  \\\n",
      "0              0              0  ...             0      10               3   \n",
      "1              0              0  ...             1      10               6   \n",
      "2              1              0  ...             1      10               5   \n",
      "3              0              0  ...             2      29               3   \n",
      "4              1              0  ...             1       7               5   \n",
      "5              2              1  ...             1      11               6   \n",
      "6              1              1  ...             1      23               7   \n",
      "7              2              0  ...             2      18               7   \n",
      "8              2              0  ...             0       9               5   \n",
      "9              0              0  ...             0       8               3   \n",
      "10             6              0  ...             2      11               4   \n",
      "11             0              0  ...             0      23               9   \n",
      "12             2              0  ...             0       8               3   \n",
      "13             0              1  ...             5       8               1   \n",
      "14             3              0  ...             1      12               5   \n",
      "15             0              0  ...             0       4               4   \n",
      "\n",
      "    Saves made Saves-to-shots ratio  Fouls Won  Fouls Conceded  Offsides  \\\n",
      "0           13               81.30%         41              62         2   \n",
      "1            9               60.10%         53              73         8   \n",
      "2           10               66.70%         25              38         8   \n",
      "3           22               88.10%         43              45         6   \n",
      "4            6               54.60%         36              51         5   \n",
      "5           10               62.60%         63              49        12   \n",
      "6           13               65.10%         67              48        12   \n",
      "7           20               74.10%        101              89        16   \n",
      "8           12               70.60%         35              30         3   \n",
      "9            6               66.70%         48              56         3   \n",
      "10          10               71.50%         73              90        10   \n",
      "11          17               65.40%         43              51        11   \n",
      "12          10               77.00%         34              43         4   \n",
      "13          15               93.80%        102              83        19   \n",
      "14           8               61.60%         35              51         7   \n",
      "15          13               76.50%         48              31         4   \n",
      "\n",
      "    Yellow Cards  Red Cards  \n",
      "0              9          0  \n",
      "1              7          0  \n",
      "2              4          0  \n",
      "3              5          0  \n",
      "4              6          0  \n",
      "5              4          0  \n",
      "6              9          1  \n",
      "7             16          0  \n",
      "8              5          0  \n",
      "9              7          1  \n",
      "10            12          0  \n",
      "11             6          1  \n",
      "12             6          0  \n",
      "13            11          0  \n",
      "14             7          0  \n",
      "15             5          0  \n",
      "\n",
      "[16 rows x 33 columns]\n"
     ]
    }
   ],
   "source": [
    "print(\"\\nTất cả các cột, loại bỏ 3 cột cuối cùng:\")\n",
    "print(euro2012.iloc[:, :-3])"
   ]
  },
  {
   "cell_type": "markdown",
   "metadata": {},
   "source": [
    "10. In các cột 'Team', 'Goals', 'Shooting Accuracy', 'Yellow Cards', 'Red Cards'"
   ]
  },
  {
   "cell_type": "code",
   "execution_count": 27,
   "metadata": {},
   "outputs": [
    {
     "name": "stdout",
     "output_type": "stream",
     "text": [
      "\n",
      "Các cột 'Team', 'Goals', 'Shooting Accuracy', 'Yellow Cards', 'Red Cards':\n",
      "                   Team  Goals Shooting Accuracy  Yellow Cards  Red Cards\n",
      "0               Croatia      4            51.90%             9          0\n",
      "1        Czech Republic      4            41.90%             7          0\n",
      "2               Denmark      4            50.00%             4          0\n",
      "3               England      5            50.00%             5          0\n",
      "4                France      3            37.90%             6          0\n",
      "5               Germany     10            47.80%             4          0\n",
      "6                Greece      5            30.70%             9          1\n",
      "7                 Italy      6            43.00%            16          0\n",
      "8           Netherlands      2            25.00%             5          0\n",
      "9                Poland      2            39.40%             7          1\n",
      "10             Portugal      6            34.30%            12          0\n",
      "11  Republic of Ireland      1            36.80%             6          1\n",
      "12               Russia      5            22.50%             6          0\n",
      "13                Spain     12            55.90%            11          0\n",
      "14               Sweden      5            47.20%             7          0\n",
      "15              Ukraine      2            21.20%             5          0\n"
     ]
    }
   ],
   "source": [
    "print(\"\\nCác cột 'Team', 'Goals', 'Shooting Accuracy', 'Yellow Cards', 'Red Cards':\")\n",
    "print(euro2012[['Team', 'Goals', 'Shooting Accuracy', 'Yellow Cards', 'Red Cards']])"
   ]
  },
  {
   "cell_type": "markdown",
   "metadata": {},
   "source": [
    "11. In các cột chỉ hiển thị 'Team', 'Shooting Accuracy’ từ 'England’, 'Italy’, ‘Russia’"
   ]
  },
  {
   "cell_type": "code",
   "execution_count": 28,
   "metadata": {},
   "outputs": [
    {
     "name": "stdout",
     "output_type": "stream",
     "text": [
      "\n",
      "Các cột 'Team', 'Shooting Accuracy' cho các đội 'England', 'Italy', 'Russia':\n",
      "       Team Shooting Accuracy\n",
      "3   England            50.00%\n",
      "7     Italy            43.00%\n",
      "12   Russia            22.50%\n"
     ]
    }
   ],
   "source": [
    "doi_duoc_chon = euro2012[euro2012['Team'].isin(['England', 'Italy', 'Russia'])][['Team', 'Shooting Accuracy']]\n",
    "\n",
    "print(\"\\nCác cột 'Team', 'Shooting Accuracy' cho các đội 'England', 'Italy', 'Russia':\")\n",
    "print(doi_duoc_chon)"
   ]
  }
 ],
 "metadata": {
  "kernelspec": {
   "display_name": "base",
   "language": "python",
   "name": "python3"
  },
  "language_info": {
   "codemirror_mode": {
    "name": "ipython",
    "version": 3
   },
   "file_extension": ".py",
   "mimetype": "text/x-python",
   "name": "python",
   "nbconvert_exporter": "python",
   "pygments_lexer": "ipython3",
   "version": "3.11.4"
  }
 },
 "nbformat": 4,
 "nbformat_minor": 2
}
