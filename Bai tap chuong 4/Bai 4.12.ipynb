{
 "cells": [
  {
   "cell_type": "code",
   "execution_count": 1,
   "metadata": {},
   "outputs": [],
   "source": [
    "import pandas as pd\n",
    "\n",
    "ser1 = pd.Series(range(5))\n",
    "ser2 = pd.Series(list('abede'))"
   ]
  },
  {
   "cell_type": "code",
   "execution_count": 2,
   "metadata": {},
   "outputs": [],
   "source": [
    "pos = [0, 4, 3, 2, 1]"
   ]
  },
  {
   "cell_type": "code",
   "execution_count": 3,
   "metadata": {},
   "outputs": [
    {
     "name": "stdout",
     "output_type": "stream",
     "text": [
      "Kết quả theo chiều dọc:\n",
      "0    0\n",
      "4    4\n",
      "3    3\n",
      "2    2\n",
      "1    1\n",
      "dtype: object\n"
     ]
    }
   ],
   "source": [
    "ket_qua_doc = pd.concat([ser1, ser2], axis=0).iloc[pos]\n",
    "print(\"Kết quả theo chiều dọc:\")\n",
    "print(ket_qua_doc)"
   ]
  },
  {
   "cell_type": "code",
   "execution_count": 4,
   "metadata": {},
   "outputs": [
    {
     "name": "stdout",
     "output_type": "stream",
     "text": [
      "\n",
      "Kết quả theo chiều ngang:\n",
      "   0  1\n",
      "0  0  a\n",
      "1  1  b\n",
      "2  2  e\n",
      "3  3  d\n",
      "4  4  e\n"
     ]
    }
   ],
   "source": [
    "ket_qua_ngang = pd.concat([ser1, ser2], axis=1)\n",
    "print(\"\\nKết quả theo chiều ngang:\")\n",
    "print(ket_qua_ngang)"
   ]
  }
 ],
 "metadata": {
  "kernelspec": {
   "display_name": "base",
   "language": "python",
   "name": "python3"
  },
  "language_info": {
   "codemirror_mode": {
    "name": "ipython",
    "version": 3
   },
   "file_extension": ".py",
   "mimetype": "text/x-python",
   "name": "python",
   "nbconvert_exporter": "python",
   "pygments_lexer": "ipython3",
   "version": "3.11.4"
  }
 },
 "nbformat": 4,
 "nbformat_minor": 2
}
