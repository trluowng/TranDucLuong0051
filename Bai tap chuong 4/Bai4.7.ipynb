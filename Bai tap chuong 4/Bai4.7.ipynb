{
 "cells": [
  {
   "cell_type": "code",
   "execution_count": 11,
   "metadata": {},
   "outputs": [],
   "source": [
    "import numpy as np\n",
    "import pandas as pd\n",
    "\n",
    "np.random.seed(100)\n",
    "ser = pd.Series(np.random.randint(1, 5, [12]))"
   ]
  },
  {
   "cell_type": "markdown",
   "metadata": {},
   "source": [
    "Giữ nguyên hai phần tử có tần suất cao nhất (top 2 most frequent items) và thay thế tất cả các phần tử còn lại bằng giá trị 'Other'"
   ]
  },
  {
   "cell_type": "code",
   "execution_count": 13,
   "metadata": {},
   "outputs": [
    {
     "name": "stdout",
     "output_type": "stream",
     "text": [
      "0         1\n",
      "1         1\n",
      "2         4\n",
      "3         4\n",
      "4         4\n",
      "5         4\n",
      "6         1\n",
      "7     Other\n",
      "8     Other\n",
      "9         1\n",
      "10    Other\n",
      "11    Other\n",
      "dtype: object\n"
     ]
    }
   ],
   "source": [
    "so_lan_xuat_hien = ser.value_counts()\n",
    "hai_gia_tri_cao_nhat = so_lan_xuat_hien.index[:2]\n",
    "\n",
    "ser_copy = ser.copy()\n",
    "ser_copy[~ser_copy.isin(hai_gia_tri_cao_nhat)] = 'Other'\n",
    "\n",
    "print(ser_copy)"
   ]
  }
 ],
 "metadata": {
  "kernelspec": {
   "display_name": "base",
   "language": "python",
   "name": "python3"
  },
  "language_info": {
   "codemirror_mode": {
    "name": "ipython",
    "version": 3
   },
   "file_extension": ".py",
   "mimetype": "text/x-python",
   "name": "python",
   "nbconvert_exporter": "python",
   "pygments_lexer": "ipython3",
   "version": "3.11.4"
  }
 },
 "nbformat": 4,
 "nbformat_minor": 2
}
