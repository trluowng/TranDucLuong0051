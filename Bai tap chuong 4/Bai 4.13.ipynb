{
 "cells": [
  {
   "cell_type": "code",
   "execution_count": 1,
   "metadata": {},
   "outputs": [],
   "source": [
    "import pandas as pd\n",
    "\n",
    "ser1 = pd.Series([10, 9, 6, 5, 3, 1, 12, 8, 13])\n",
    "ser2 = pd.Series([1, 3, 10, 13])"
   ]
  },
  {
   "cell_type": "markdown",
   "metadata": {},
   "source": [
    "Lấy vị trí của các phần tử trong ser2 trong ser1 dưới dạng danh sách"
   ]
  },
  {
   "cell_type": "code",
   "execution_count": 2,
   "metadata": {},
   "outputs": [
    {
     "name": "stdout",
     "output_type": "stream",
     "text": [
      "Vị trí của các phần tử của ser2 trong ser1:\n",
      "[0, 4, 5, 8]\n"
     ]
    }
   ],
   "source": [
    "vi_tri_cac_muc_cua_ser2_trong_ser1 = ser1[ser1.isin(ser2)].index.tolist()\n",
    "\n",
    "print(\"Vị trí của các phần tử của ser2 trong ser1:\")\n",
    "print(vi_tri_cac_muc_cua_ser2_trong_ser1)"
   ]
  }
 ],
 "metadata": {
  "kernelspec": {
   "display_name": "base",
   "language": "python",
   "name": "python3"
  },
  "language_info": {
   "codemirror_mode": {
    "name": "ipython",
    "version": 3
   },
   "file_extension": ".py",
   "mimetype": "text/x-python",
   "name": "python",
   "nbconvert_exporter": "python",
   "pygments_lexer": "ipython3",
   "version": "3.11.4"
  }
 },
 "nbformat": 4,
 "nbformat_minor": 2
}
