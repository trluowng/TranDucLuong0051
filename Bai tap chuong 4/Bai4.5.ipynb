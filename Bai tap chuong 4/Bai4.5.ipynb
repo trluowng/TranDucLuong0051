{
 "cells": [
  {
   "cell_type": "code",
   "execution_count": 1,
   "metadata": {},
   "outputs": [],
   "source": [
    "import pandas as pd\n",
    "import numpy as np"
   ]
  },
  {
   "cell_type": "code",
   "execution_count": 2,
   "metadata": {},
   "outputs": [],
   "source": [
    "ser = pd.Series(np.random.normal(10, 5, 25))"
   ]
  },
  {
   "cell_type": "markdown",
   "metadata": {},
   "source": [
    "1. Giá trị tối thiểu (mininum) của ser"
   ]
  },
  {
   "cell_type": "code",
   "execution_count": 3,
   "metadata": {},
   "outputs": [
    {
     "name": "stdout",
     "output_type": "stream",
     "text": [
      "Giá trị tối thiểu của ser: -4.4158086166921535\n"
     ]
    }
   ],
   "source": [
    "min_value = ser.min()\n",
    "\n",
    "print(\"Giá trị tối thiểu của ser:\", min_value)\n"
   ]
  },
  {
   "cell_type": "markdown",
   "metadata": {},
   "source": [
    "2. Phần centile thứ 25 (25th percentile) của ser. Đây là giá trị mà 25% các giá trị trong chuỗi nhỏ hoặc bằng nó"
   ]
  },
  {
   "cell_type": "code",
   "execution_count": 4,
   "metadata": {},
   "outputs": [
    {
     "name": "stdout",
     "output_type": "stream",
     "text": [
      "Phần centile thứ 25 của ser: 7.514501025389842\n"
     ]
    }
   ],
   "source": [
    "sorted_ser = ser.sort_values()\n",
    "index_25th_percentile = int(len(sorted_ser) * 0.25)\n",
    "percentile_25 = sorted_ser.iloc[index_25th_percentile]\n",
    "\n",
    "print(\"Phần centile thứ 25 của ser:\", percentile_25)"
   ]
  },
  {
   "cell_type": "markdown",
   "metadata": {},
   "source": [
    "3. Trung vị (median) của ser. Đây là giá trị ở vị trí giữa khi sắp xếp ser theo thứ tự tăng dần"
   ]
  },
  {
   "cell_type": "code",
   "execution_count": 5,
   "metadata": {},
   "outputs": [
    {
     "name": "stdout",
     "output_type": "stream",
     "text": [
      "Trung vị của ser: 9.31669229016439\n"
     ]
    }
   ],
   "source": [
    "median_value = ser.median()\n",
    "\n",
    "print(\"Trung vị của ser:\", median_value)"
   ]
  },
  {
   "cell_type": "markdown",
   "metadata": {},
   "source": [
    "4. Phần centile thứ 75 (75th percentile) của ser. Đây là giá trị mà 75% các giá trị trong ser nhỏ hoặc bằng nó"
   ]
  },
  {
   "cell_type": "code",
   "execution_count": 6,
   "metadata": {},
   "outputs": [
    {
     "name": "stdout",
     "output_type": "stream",
     "text": [
      "Phần centile thứ 75 của ser: 11.234062279687489\n"
     ]
    }
   ],
   "source": [
    "percentile_75 = ser.quantile(0.75)\n",
    "\n",
    "print(\"Phần centile thứ 75 của ser:\", percentile_75)"
   ]
  },
  {
   "cell_type": "markdown",
   "metadata": {},
   "source": [
    "5. Giá trị tối đa (maxinum) của ser"
   ]
  },
  {
   "cell_type": "code",
   "execution_count": 7,
   "metadata": {},
   "outputs": [
    {
     "name": "stdout",
     "output_type": "stream",
     "text": [
      "Giá trị tối đa của ser: 17.27602408340603\n"
     ]
    }
   ],
   "source": [
    "max_value = ser.max()\n",
    "\n",
    "print(\"Giá trị tối đa của ser:\", max_value)"
   ]
  }
 ],
 "metadata": {
  "kernelspec": {
   "display_name": "base",
   "language": "python",
   "name": "python3"
  },
  "language_info": {
   "codemirror_mode": {
    "name": "ipython",
    "version": 3
   },
   "file_extension": ".py",
   "mimetype": "text/x-python",
   "name": "python",
   "nbconvert_exporter": "python",
   "pygments_lexer": "ipython3",
   "version": "3.11.4"
  }
 },
 "nbformat": 4,
 "nbformat_minor": 2
}
