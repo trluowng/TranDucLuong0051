{
 "cells": [
  {
   "cell_type": "code",
   "execution_count": 3,
   "metadata": {},
   "outputs": [],
   "source": [
    "import numpy as np\n",
    "import pandas as pd\n",
    "\n",
    "fruit = pd.Series(np.random.choice(['apple', 'banana', 'carrot'], 10))\n",
    "weights = pd.Series(np.linspace(1, 10, 10))\n"
   ]
  },
  {
   "cell_type": "markdown",
   "metadata": {},
   "source": [
    "Tính khối lượng trung bình của từng loại quả"
   ]
  },
  {
   "cell_type": "code",
   "execution_count": 4,
   "metadata": {},
   "outputs": [
    {
     "name": "stdout",
     "output_type": "stream",
     "text": [
      "Khối lượng trung bình của từng loại quả là:  fruit\n",
      "apple     7.000000\n",
      "banana    5.600000\n",
      "carrot    4.333333\n",
      "Name: weight, dtype: float64\n"
     ]
    }
   ],
   "source": [
    "df = pd.DataFrame({'fruit': fruit, 'weight': weights})\n",
    "khoi_luong_tb = df.groupby('fruit')['weight'].mean()\n",
    "\n",
    "print(\"Khối lượng trung bình của từng loại quả là: \", khoi_luong_tb)"
   ]
  }
 ],
 "metadata": {
  "kernelspec": {
   "display_name": "base",
   "language": "python",
   "name": "python3"
  },
  "language_info": {
   "codemirror_mode": {
    "name": "ipython",
    "version": 3
   },
   "file_extension": ".py",
   "mimetype": "text/x-python",
   "name": "python",
   "nbconvert_exporter": "python",
   "pygments_lexer": "ipython3",
   "version": "3.11.4"
  }
 },
 "nbformat": 4,
 "nbformat_minor": 2
}
