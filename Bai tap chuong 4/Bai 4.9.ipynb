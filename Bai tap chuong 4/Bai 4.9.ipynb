{
 "cells": [
  {
   "cell_type": "code",
   "execution_count": null,
   "metadata": {},
   "outputs": [],
   "source": [
    "ser = pd.Series(np.random.randint(1, 10, 35))\n",
    "#1. Ý nghĩa mã lệnh:\n",
    "# np.random.randint(1, 10, 35): Tạo một mảng numpy chứa 35 số nguyên ngẫu nhiên từ 1 đến 9.\n",
    "# pd.Series(...): Tạo một đối tượng Series từ mảng số nguyên vừa tạo.\n",
    "# Như vậy, đoạn mã này tạo ra một Series (ser) có 35 phần tử, mỗi phần tử là một số nguyên ngẫu nhiên từ 1 đến 9."
   ]
  },
  {
   "cell_type": "markdown",
   "metadata": {},
   "source": [
    "2. Định hình lại ser thành một DataFrame có 7 hàng và 5 cột"
   ]
  },
  {
   "cell_type": "code",
   "execution_count": 1,
   "metadata": {},
   "outputs": [],
   "source": [
    "import pandas as pd\n",
    "import numpy as np\n",
    "\n",
    "ser = pd.Series(np.random.randint(1, 10, 35))"
   ]
  },
  {
   "cell_type": "code",
   "execution_count": 2,
   "metadata": {},
   "outputs": [
    {
     "name": "stdout",
     "output_type": "stream",
     "text": [
      "   Col1  Col2  Col3  Col4  Col5\n",
      "0     7     8     9     6     4\n",
      "1     4     5     5     5     2\n",
      "2     7     3     9     7     7\n",
      "3     6     9     2     4     7\n",
      "4     3     9     2     3     9\n",
      "5     6     5     2     5     3\n",
      "6     2     1     4     8     8\n"
     ]
    }
   ],
   "source": [
    "df = pd.DataFrame(np.array(ser).reshape(7, 5), columns=['Col1', 'Col2', 'Col3', 'Col4', 'Col5'])\n",
    "print(df)"
   ]
  }
 ],
 "metadata": {
  "kernelspec": {
   "display_name": "base",
   "language": "python",
   "name": "python3"
  },
  "language_info": {
   "codemirror_mode": {
    "name": "ipython",
    "version": 3
   },
   "file_extension": ".py",
   "mimetype": "text/x-python",
   "name": "python",
   "nbconvert_exporter": "python",
   "pygments_lexer": "ipython3",
   "version": "3.11.4"
  }
 },
 "nbformat": 4,
 "nbformat_minor": 2
}
