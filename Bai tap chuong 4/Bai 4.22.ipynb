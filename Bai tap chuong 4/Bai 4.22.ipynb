{
 "cells": [
  {
   "cell_type": "code",
   "execution_count": 29,
   "metadata": {},
   "outputs": [],
   "source": [
    "import numpy as np\n",
    "import pandas as pd"
   ]
  },
  {
   "cell_type": "markdown",
   "metadata": {},
   "source": [
    "1.a, Đọc file stocks1.csv => Đưa dữ liệu vào stocks1"
   ]
  },
  {
   "cell_type": "code",
   "execution_count": 30,
   "metadata": {},
   "outputs": [
    {
     "name": "stdout",
     "output_type": "stream",
     "text": [
      "       date symbol     open     high      low    close   volume\n",
      "0  01-03-19   AMZN  1655.13  1674.26  1651.00  1671.73  4974877\n",
      "1  04-03-19   AMZN  1685.00  1709.43  1674.36  1696.17  6167358\n",
      "2  05-03-19   AMZN  1702.95  1707.80  1689.01  1692.43  3681522\n",
      "3  06-03-19   AMZN  1695.97      NaN      NaN  1668.95  3996001\n",
      "4  07-03-19   AMZN  1667.37  1669.75  1620.51  1625.95  4957017\n"
     ]
    }
   ],
   "source": [
    "stocks1 = pd.read_csv('stocks1.csv')\n",
    "print(stocks1.head())"
   ]
  },
  {
   "cell_type": "markdown",
   "metadata": {},
   "source": [
    "Hiển thị 5 dòng dữ liệu đầu và cuối của stocks1"
   ]
  },
  {
   "cell_type": "code",
   "execution_count": 31,
   "metadata": {},
   "outputs": [
    {
     "name": "stdout",
     "output_type": "stream",
     "text": [
      "5 dòng dữ liệu đầu của stocks1:\n",
      "       date symbol     open     high      low    close   volume\n",
      "0  01-03-19   AMZN  1655.13  1674.26  1651.00  1671.73  4974877\n",
      "1  04-03-19   AMZN  1685.00  1709.43  1674.36  1696.17  6167358\n",
      "2  05-03-19   AMZN  1702.95  1707.80  1689.01  1692.43  3681522\n",
      "3  06-03-19   AMZN  1695.97      NaN      NaN  1668.95  3996001\n",
      "4  07-03-19   AMZN  1667.37  1669.75  1620.51  1625.95  4957017\n",
      "\n",
      "5 dòng dữ liệu cuối của stocks1:\n",
      "        date symbol     open     high      low    close   volume\n",
      "10  01-03-19   GOOG  1124.90  1142.97  1124.75  1140.99  1450316\n",
      "11  04-03-19   GOOG  1146.99  1158.28  1130.69  1147.80  1446047\n",
      "12  05-03-19   GOOG  1150.06      NaN      NaN  1162.03  1443174\n",
      "13  06-03-19   GOOG  1162.49  1167.57  1155.49  1157.86  1099289\n",
      "14  07-03-19   GOOG  1155.72  1156.76  1134.91  1143.30  1166559\n"
     ]
    }
   ],
   "source": [
    "print(\"5 dòng dữ liệu đầu của stocks1:\")\n",
    "print(stocks1.head())\n",
    "\n",
    "print(\"\\n5 dòng dữ liệu cuối của stocks1:\")\n",
    "print(stocks1.tail())"
   ]
  },
  {
   "cell_type": "markdown",
   "metadata": {},
   "source": [
    "Cho biết kiểu dữ liệu (dtype) của các cột của stocks1"
   ]
  },
  {
   "cell_type": "code",
   "execution_count": 32,
   "metadata": {},
   "outputs": [
    {
     "name": "stdout",
     "output_type": "stream",
     "text": [
      "\n",
      "Kiểu dữ liệu (dtype) của các cột của stocks1:\n",
      "date       object\n",
      "symbol     object\n",
      "open      float64\n",
      "high      float64\n",
      "low       float64\n",
      "close     float64\n",
      "volume      int64\n",
      "dtype: object\n"
     ]
    }
   ],
   "source": [
    "print(\"\\nKiểu dữ liệu (dtype) của các cột của stocks1:\")\n",
    "print(stocks1.dtypes)"
   ]
  },
  {
   "cell_type": "markdown",
   "metadata": {},
   "source": [
    "Xem thông tin (info) của stocks1"
   ]
  },
  {
   "cell_type": "code",
   "execution_count": 33,
   "metadata": {},
   "outputs": [
    {
     "name": "stdout",
     "output_type": "stream",
     "text": [
      "\n",
      "Thông tin (info) của stocks1:\n",
      "<class 'pandas.core.frame.DataFrame'>\n",
      "RangeIndex: 15 entries, 0 to 14\n",
      "Data columns (total 7 columns):\n",
      " #   Column  Non-Null Count  Dtype  \n",
      "---  ------  --------------  -----  \n",
      " 0   date    15 non-null     object \n",
      " 1   symbol  15 non-null     object \n",
      " 2   open    15 non-null     float64\n",
      " 3   high    13 non-null     float64\n",
      " 4   low     13 non-null     float64\n",
      " 5   close   15 non-null     float64\n",
      " 6   volume  15 non-null     int64  \n",
      "dtypes: float64(4), int64(1), object(2)\n",
      "memory usage: 972.0+ bytes\n",
      "None\n"
     ]
    }
   ],
   "source": [
    "print(\"\\nThông tin (info) của stocks1:\")\n",
    "print(stocks1.info())"
   ]
  },
  {
   "cell_type": "markdown",
   "metadata": {},
   "source": [
    "1.b, Đọc file stocks2.csv => Đưa dữ liệu vào stocks2"
   ]
  },
  {
   "cell_type": "code",
   "execution_count": 34,
   "metadata": {},
   "outputs": [
    {
     "name": "stdout",
     "output_type": "stream",
     "text": [
      "       date symbol    open     high     low   close    volume\n",
      "0  01-03-19     FB  162.60  163.132  161.69  162.28  11097770\n",
      "1  04-03-19     FB  163.90  167.500  163.83  167.37  18894689\n",
      "2  05-03-19     FB  167.37  171.880  166.55  171.26  28187890\n",
      "3  06-03-19     FB  172.90  173.570  171.27  172.51  21531723\n",
      "4  07-03-19     FB  171.50  171.740  167.61  169.13  18306504\n"
     ]
    }
   ],
   "source": [
    "stocks2 = pd.read_csv('stocks2.csv')\n",
    "print(stocks2.head())"
   ]
  },
  {
   "cell_type": "markdown",
   "metadata": {},
   "source": [
    "Hiển thị 5 dòng dữ liệu đầu và cuối của stocks2"
   ]
  },
  {
   "cell_type": "code",
   "execution_count": 35,
   "metadata": {},
   "outputs": [
    {
     "name": "stdout",
     "output_type": "stream",
     "text": [
      "5 dòng dữ liệu đầu của stocks2:\n",
      "       date symbol    open     high     low   close    volume\n",
      "0  01-03-19     FB  162.60  163.132  161.69  162.28  11097770\n",
      "1  04-03-19     FB  163.90  167.500  163.83  167.37  18894689\n",
      "2  05-03-19     FB  167.37  171.880  166.55  171.26  28187890\n",
      "3  06-03-19     FB  172.90  173.570  171.27  172.51  21531723\n",
      "4  07-03-19     FB  171.50  171.740  167.61  169.13  18306504\n",
      "\n",
      "5 dòng dữ liệu cuối của stocks2:\n",
      "       date symbol    open      high     low   close    volume\n",
      "5  01-03-19   TSLA  306.94  307.1300  291.90  294.79  22911375\n",
      "6  04-03-19   TSLA  298.12  299.0000  282.78  285.36  17096818\n",
      "7  05-03-19   TSLA  282.00  284.0000  270.10  276.54  18764740\n",
      "8  06-03-19   TSLA  276.48  281.5058  274.39  276.24  10335485\n",
      "9  07-03-19   TSLA  278.84  284.7000  274.25  276.59   9442483\n"
     ]
    }
   ],
   "source": [
    "print(\"5 dòng dữ liệu đầu của stocks2:\")\n",
    "print(stocks2.head())\n",
    "\n",
    "print(\"\\n5 dòng dữ liệu cuối của stocks2:\")\n",
    "print(stocks2.tail())"
   ]
  },
  {
   "cell_type": "markdown",
   "metadata": {},
   "source": [
    "Cho biết kiểu dữ liệu (dtype) của các cột của stocks2"
   ]
  },
  {
   "cell_type": "code",
   "execution_count": 36,
   "metadata": {},
   "outputs": [
    {
     "name": "stdout",
     "output_type": "stream",
     "text": [
      "\n",
      "Kiểu dữ liệu (dtype) của các cột của stocks2:\n",
      "date       object\n",
      "symbol     object\n",
      "open      float64\n",
      "high      float64\n",
      "low       float64\n",
      "close     float64\n",
      "volume      int64\n",
      "dtype: object\n"
     ]
    }
   ],
   "source": [
    "print(\"\\nKiểu dữ liệu (dtype) của các cột của stocks2:\")\n",
    "print(stocks2.dtypes)"
   ]
  },
  {
   "cell_type": "markdown",
   "metadata": {},
   "source": [
    "Xem thông tin (info) của stocks2"
   ]
  },
  {
   "cell_type": "code",
   "execution_count": 37,
   "metadata": {},
   "outputs": [
    {
     "name": "stdout",
     "output_type": "stream",
     "text": [
      "\n",
      "Thông tin (info) của stocks2:\n",
      "<class 'pandas.core.frame.DataFrame'>\n",
      "RangeIndex: 10 entries, 0 to 9\n",
      "Data columns (total 7 columns):\n",
      " #   Column  Non-Null Count  Dtype  \n",
      "---  ------  --------------  -----  \n",
      " 0   date    10 non-null     object \n",
      " 1   symbol  10 non-null     object \n",
      " 2   open    10 non-null     float64\n",
      " 3   high    10 non-null     float64\n",
      " 4   low     10 non-null     float64\n",
      " 5   close   10 non-null     float64\n",
      " 6   volume  10 non-null     int64  \n",
      "dtypes: float64(4), int64(1), object(2)\n",
      "memory usage: 692.0+ bytes\n",
      "None\n"
     ]
    }
   ],
   "source": [
    "print(\"\\nThông tin (info) của stocks2:\")\n",
    "print(stocks2.info())"
   ]
  },
  {
   "cell_type": "markdown",
   "metadata": {},
   "source": [
    "1.c, Đọc file companies.csv => Đưa dữ liệu vào companies"
   ]
  },
  {
   "cell_type": "code",
   "execution_count": 38,
   "metadata": {},
   "outputs": [
    {
     "name": "stdout",
     "output_type": "stream",
     "text": [
      "   name  employees headquarters_city headquarters_state\n",
      "0  AMZN     613300           Seattle                 WA\n",
      "1  GOOG      98771     Mountain View                 CA\n",
      "2  AAPL     132000         Cupertino                 CA\n",
      "3    FB      48268        Menlo Park                 CA\n",
      "4  TSLA      48016         Palo Alto                 CA\n"
     ]
    }
   ],
   "source": [
    "companies = pd.read_csv('companies.csv')\n",
    "print(companies.head())"
   ]
  },
  {
   "cell_type": "markdown",
   "metadata": {},
   "source": [
    "Cho biết kiểu dữ liệu (dtype) của các cột của companies"
   ]
  },
  {
   "cell_type": "code",
   "execution_count": 39,
   "metadata": {},
   "outputs": [
    {
     "name": "stdout",
     "output_type": "stream",
     "text": [
      "\n",
      "Kiểu dữ liệu (dtype) của các cột của companies:\n",
      "name                  object\n",
      "employees              int64\n",
      "headquarters_city     object\n",
      "headquarters_state    object\n",
      "dtype: object\n"
     ]
    }
   ],
   "source": [
    "print(\"\\nKiểu dữ liệu (dtype) của các cột của companies:\")\n",
    "print(companies.dtypes)"
   ]
  },
  {
   "cell_type": "markdown",
   "metadata": {},
   "source": [
    "Xem thông tin (info) của companies"
   ]
  },
  {
   "cell_type": "code",
   "execution_count": 40,
   "metadata": {},
   "outputs": [
    {
     "name": "stdout",
     "output_type": "stream",
     "text": [
      "\n",
      "Thông tin (info) của companies:\n",
      "<class 'pandas.core.frame.DataFrame'>\n",
      "RangeIndex: 5 entries, 0 to 4\n",
      "Data columns (total 4 columns):\n",
      " #   Column              Non-Null Count  Dtype \n",
      "---  ------              --------------  ----- \n",
      " 0   name                5 non-null      object\n",
      " 1   employees           5 non-null      int64 \n",
      " 2   headquarters_city   5 non-null      object\n",
      " 3   headquarters_state  5 non-null      object\n",
      "dtypes: int64(1), object(3)\n",
      "memory usage: 292.0+ bytes\n",
      "None\n"
     ]
    }
   ],
   "source": [
    "print(\"\\nThông tin (info) của companies:\")\n",
    "print(companies.info())"
   ]
  },
  {
   "cell_type": "markdown",
   "metadata": {},
   "source": [
    "2. Cho biết trong stocks1 có dữ liệu Null hay không?"
   ]
  },
  {
   "cell_type": "code",
   "execution_count": 41,
   "metadata": {},
   "outputs": [
    {
     "name": "stdout",
     "output_type": "stream",
     "text": [
      "\n",
      "Dữ liệu Null trong stocks1:\n",
      "date      0\n",
      "symbol    0\n",
      "open      0\n",
      "high      2\n",
      "low       2\n",
      "close     0\n",
      "volume    0\n",
      "dtype: int64\n"
     ]
    }
   ],
   "source": [
    "print(\"\\nDữ liệu Null trong stocks1:\")\n",
    "print(stocks1.isnull().sum())"
   ]
  },
  {
   "cell_type": "markdown",
   "metadata": {},
   "source": [
    "Nếu Null cột high thì thay bằng giá trị max trên cột high của mã chứng khoán đó"
   ]
  },
  {
   "cell_type": "code",
   "execution_count": 42,
   "metadata": {},
   "outputs": [],
   "source": [
    "stocks1['high'].fillna(stocks1.groupby('symbol')['high'].transform('max'), inplace=True)"
   ]
  },
  {
   "cell_type": "markdown",
   "metadata": {},
   "source": [
    "Nếu Null cột low thì thay bằng giá trị min trên cột low của mã chứng khoán đó"
   ]
  },
  {
   "cell_type": "code",
   "execution_count": 43,
   "metadata": {},
   "outputs": [],
   "source": [
    "stocks1['low'].fillna(stocks1.groupby('symbol')['low'].transform('min'), inplace=True)"
   ]
  },
  {
   "cell_type": "code",
   "execution_count": 44,
   "metadata": {},
   "outputs": [
    {
     "name": "stdout",
     "output_type": "stream",
     "text": [
      "\n",
      "Dữ liệu Null sau khi thay thế:\n",
      "date      0\n",
      "symbol    0\n",
      "open      0\n",
      "high      0\n",
      "low       0\n",
      "close     0\n",
      "volume    0\n",
      "dtype: int64\n"
     ]
    }
   ],
   "source": [
    "print(\"\\nDữ liệu Null sau khi thay thế:\")\n",
    "print(stocks1.isnull().sum())"
   ]
  },
  {
   "cell_type": "markdown",
   "metadata": {},
   "source": [
    "3. Tạo dataframe stocks bằng cách gộp stocks1 và stocks2 theo dòng"
   ]
  },
  {
   "cell_type": "code",
   "execution_count": 45,
   "metadata": {},
   "outputs": [],
   "source": [
    "stocks = pd.concat([stocks1, stocks2], ignore_index=True)"
   ]
  },
  {
   "cell_type": "markdown",
   "metadata": {},
   "source": [
    "Xem 15 dòng dữ liệu cuối của stocks"
   ]
  },
  {
   "cell_type": "code",
   "execution_count": 46,
   "metadata": {},
   "outputs": [
    {
     "name": "stdout",
     "output_type": "stream",
     "text": [
      "15 dòng dữ liệu cuối của stocks:\n",
      "        date symbol     open       high      low    close    volume\n",
      "10  01-03-19   GOOG  1124.90  1142.9700  1124.75  1140.99   1450316\n",
      "11  04-03-19   GOOG  1146.99  1158.2800  1130.69  1147.80   1446047\n",
      "12  05-03-19   GOOG  1150.06  1167.5700  1124.75  1162.03   1443174\n",
      "13  06-03-19   GOOG  1162.49  1167.5700  1155.49  1157.86   1099289\n",
      "14  07-03-19   GOOG  1155.72  1156.7600  1134.91  1143.30   1166559\n",
      "15  01-03-19     FB   162.60   163.1320   161.69   162.28  11097770\n",
      "16  04-03-19     FB   163.90   167.5000   163.83   167.37  18894689\n",
      "17  05-03-19     FB   167.37   171.8800   166.55   171.26  28187890\n",
      "18  06-03-19     FB   172.90   173.5700   171.27   172.51  21531723\n",
      "19  07-03-19     FB   171.50   171.7400   167.61   169.13  18306504\n",
      "20  01-03-19   TSLA   306.94   307.1300   291.90   294.79  22911375\n",
      "21  04-03-19   TSLA   298.12   299.0000   282.78   285.36  17096818\n",
      "22  05-03-19   TSLA   282.00   284.0000   270.10   276.54  18764740\n",
      "23  06-03-19   TSLA   276.48   281.5058   274.39   276.24  10335485\n",
      "24  07-03-19   TSLA   278.84   284.7000   274.25   276.59   9442483\n"
     ]
    }
   ],
   "source": [
    "print(\"15 dòng dữ liệu cuối của stocks:\")\n",
    "print(stocks.tail(15))"
   ]
  },
  {
   "cell_type": "markdown",
   "metadata": {},
   "source": [
    "4.  Tạo dataframe stocks_companies bằng cách gộp stocks và companies theo dòng"
   ]
  },
  {
   "cell_type": "code",
   "execution_count": 47,
   "metadata": {},
   "outputs": [],
   "source": [
    "stocks_companies = pd.merge(stocks, companies, left_on='symbol', right_on='name', how='inner')\n"
   ]
  },
  {
   "cell_type": "markdown",
   "metadata": {},
   "source": [
    "Xem 5 dòng dữ liệu đầu của stocks_companies"
   ]
  },
  {
   "cell_type": "code",
   "execution_count": 48,
   "metadata": {},
   "outputs": [
    {
     "name": "stdout",
     "output_type": "stream",
     "text": [
      "5 dòng dữ liệu đầu của stocks_companies:\n",
      "       date symbol     open     high      low    close   volume  name  \\\n",
      "0  01-03-19   AMZN  1655.13  1674.26  1651.00  1671.73  4974877  AMZN   \n",
      "1  04-03-19   AMZN  1685.00  1709.43  1674.36  1696.17  6167358  AMZN   \n",
      "2  05-03-19   AMZN  1702.95  1707.80  1689.01  1692.43  3681522  AMZN   \n",
      "3  06-03-19   AMZN  1695.97  1709.43  1620.51  1668.95  3996001  AMZN   \n",
      "4  07-03-19   AMZN  1667.37  1669.75  1620.51  1625.95  4957017  AMZN   \n",
      "\n",
      "   employees headquarters_city headquarters_state  \n",
      "0     613300           Seattle                 WA  \n",
      "1     613300           Seattle                 WA  \n",
      "2     613300           Seattle                 WA  \n",
      "3     613300           Seattle                 WA  \n",
      "4     613300           Seattle                 WA  \n"
     ]
    }
   ],
   "source": [
    "print(\"5 dòng dữ liệu đầu của stocks_companies:\")\n",
    "print(stocks_companies.head())"
   ]
  },
  {
   "cell_type": "markdown",
   "metadata": {},
   "source": [
    "5. Cho biết giá (open, high, low, close) trung bình và volume trung bình của mỗi công ty"
   ]
  },
  {
   "cell_type": "code",
   "execution_count": 50,
   "metadata": {},
   "outputs": [
    {
     "name": "stdout",
     "output_type": "stream",
     "text": [
      "Giá trung bình và volume trung bình của mỗi công ty:\n",
      "          open        high       low     close      volume\n",
      "name                                                      \n",
      "AAPL   174.890   175.76600   173.472   174.674  23733309.4\n",
      "AMZN  1681.284  1694.13400  1651.078  1671.046   4755355.0\n",
      "FB     167.654   169.56440   166.190   168.510  19603715.2\n",
      "GOOG  1148.032  1158.63000  1134.118  1150.396   1321077.0\n",
      "TSLA   288.476   291.26716   278.684   281.904  15710180.2\n"
     ]
    }
   ],
   "source": [
    "nhom_stocks = stocks_companies.groupby('name')\n",
    "\n",
    "gia_tri_tb = nhom_stocks.agg({ 'open': 'mean',\n",
    "                               'high': 'mean',\n",
    "                               'low': 'mean',\n",
    "                               'close': 'mean',\n",
    "                               'volume': 'mean'\n",
    "})\n",
    "\n",
    "print(\"Giá trung bình và volume trung bình của mỗi công ty:\")\n",
    "print(gia_tri_tb)"
   ]
  },
  {
   "cell_type": "markdown",
   "metadata": {},
   "source": [
    "6. Cho biết giá đóng cửa (close) trung bình, lớn nhất và nhỏ nhất ở mỗi công ty"
   ]
  },
  {
   "cell_type": "code",
   "execution_count": 51,
   "metadata": {},
   "outputs": [
    {
     "name": "stdout",
     "output_type": "stream",
     "text": [
      "Giá đóng cửa trung bình, lớn nhất và nhỏ nhất của mỗi công ty:\n",
      "          mean      max      min\n",
      "name                            \n",
      "AAPL   174.674   175.85   172.50\n",
      "AMZN  1671.046  1696.17  1625.95\n",
      "FB     168.510   172.51   162.28\n",
      "GOOG  1150.396  1162.03  1140.99\n",
      "TSLA   281.904   294.79   276.24\n"
     ]
    }
   ],
   "source": [
    "gia_dong_cua = nhom_stocks['close'].agg(['mean', 'max', 'min'])\n",
    "\n",
    "# Hiển thị kết quả\n",
    "print(\"Giá đóng cửa trung bình, lớn nhất và nhỏ nhất của mỗi công ty:\")\n",
    "print(gia_dong_cua)"
   ]
  },
  {
   "cell_type": "markdown",
   "metadata": {},
   "source": [
    "7. Tạo cột parsed_time trong stocks_companies bằng cách đổi thời gian sang định dạng DateTime"
   ]
  },
  {
   "cell_type": "code",
   "execution_count": 52,
   "metadata": {},
   "outputs": [],
   "source": [
    "stocks_companies['parsed_time'] = pd.to_datetime(stocks_companies['date'])"
   ]
  },
  {
   "cell_type": "markdown",
   "metadata": {},
   "source": [
    "Cho biết kiểu dữ liệu của cột parsed_time"
   ]
  },
  {
   "cell_type": "code",
   "execution_count": 53,
   "metadata": {},
   "outputs": [
    {
     "name": "stdout",
     "output_type": "stream",
     "text": [
      "Kiểu dữ liệu của cột parsed_time: datetime64[ns]\n"
     ]
    }
   ],
   "source": [
    "print(\"Kiểu dữ liệu của cột parsed_time:\", stocks_companies['parsed_time'].dtype)"
   ]
  },
  {
   "cell_type": "markdown",
   "metadata": {},
   "source": [
    "Hiển thị 5 dòng dữ liệu đầu của stocks_companies"
   ]
  },
  {
   "cell_type": "code",
   "execution_count": 54,
   "metadata": {},
   "outputs": [
    {
     "name": "stdout",
     "output_type": "stream",
     "text": [
      "5 dòng dữ liệu đầu của stocks_companies:\n",
      "       date symbol     open     high      low    close   volume  name  \\\n",
      "0  01-03-19   AMZN  1655.13  1674.26  1651.00  1671.73  4974877  AMZN   \n",
      "1  04-03-19   AMZN  1685.00  1709.43  1674.36  1696.17  6167358  AMZN   \n",
      "2  05-03-19   AMZN  1702.95  1707.80  1689.01  1692.43  3681522  AMZN   \n",
      "3  06-03-19   AMZN  1695.97  1709.43  1620.51  1668.95  3996001  AMZN   \n",
      "4  07-03-19   AMZN  1667.37  1669.75  1620.51  1625.95  4957017  AMZN   \n",
      "\n",
      "   employees headquarters_city headquarters_state parsed_time  \n",
      "0     613300           Seattle                 WA  2019-01-03  \n",
      "1     613300           Seattle                 WA  2019-04-03  \n",
      "2     613300           Seattle                 WA  2019-05-03  \n",
      "3     613300           Seattle                 WA  2019-06-03  \n",
      "4     613300           Seattle                 WA  2019-07-03  \n"
     ]
    }
   ],
   "source": [
    "print(\"5 dòng dữ liệu đầu của stocks_companies:\")\n",
    "print(stocks_companies.head())"
   ]
  },
  {
   "cell_type": "markdown",
   "metadata": {},
   "source": [
    "8. Thêm cột result, nếu giá 'close'>'open' thì cột result có giá trị 'up', ngược lại 'down'"
   ]
  },
  {
   "cell_type": "code",
   "execution_count": 55,
   "metadata": {},
   "outputs": [
    {
     "name": "stdout",
     "output_type": "stream",
     "text": [
      "5 dòng dữ liệu đầu của stocks_companies sau khi thêm cột result:\n",
      "       date symbol     open     high      low    close   volume  name  \\\n",
      "0  01-03-19   AMZN  1655.13  1674.26  1651.00  1671.73  4974877  AMZN   \n",
      "1  04-03-19   AMZN  1685.00  1709.43  1674.36  1696.17  6167358  AMZN   \n",
      "2  05-03-19   AMZN  1702.95  1707.80  1689.01  1692.43  3681522  AMZN   \n",
      "3  06-03-19   AMZN  1695.97  1709.43  1620.51  1668.95  3996001  AMZN   \n",
      "4  07-03-19   AMZN  1667.37  1669.75  1620.51  1625.95  4957017  AMZN   \n",
      "\n",
      "   employees headquarters_city headquarters_state parsed_time result  \n",
      "0     613300           Seattle                 WA  2019-01-03     up  \n",
      "1     613300           Seattle                 WA  2019-04-03     up  \n",
      "2     613300           Seattle                 WA  2019-05-03   down  \n",
      "3     613300           Seattle                 WA  2019-06-03   down  \n",
      "4     613300           Seattle                 WA  2019-07-03   down  \n"
     ]
    }
   ],
   "source": [
    "stocks_companies['result'] = np.where(stocks_companies['close'] > stocks_companies['open'], 'up', 'down')\n",
    "\n",
    "print(\"5 dòng dữ liệu đầu của stocks_companies sau khi thêm cột result:\")\n",
    "print(stocks_companies.head())"
   ]
  }
 ],
 "metadata": {
  "kernelspec": {
   "display_name": "base",
   "language": "python",
   "name": "python3"
  },
  "language_info": {
   "codemirror_mode": {
    "name": "ipython",
    "version": 3
   },
   "file_extension": ".py",
   "mimetype": "text/x-python",
   "name": "python",
   "nbconvert_exporter": "python",
   "pygments_lexer": "ipython3",
   "version": "3.11.4"
  }
 },
 "nbformat": 4,
 "nbformat_minor": 2
}
