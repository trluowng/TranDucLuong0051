{
 "cells": [
  {
   "cell_type": "code",
   "execution_count": 1,
   "metadata": {},
   "outputs": [],
   "source": [
    "import pandas as pd\n",
    "import numpy as np\n",
    "\n",
    "ser = pd.Series(np.random.random(20))\n"
   ]
  },
  {
   "cell_type": "markdown",
   "metadata": {},
   "source": [
    "Chia chuỗi dữ liệu(series) ser thành 10 phân vị bằng nhau (equal deciles) và thay thế các giá trị trong ser bằng tên của phân vị tương ứng"
   ]
  },
  {
   "cell_type": "code",
   "execution_count": 2,
   "metadata": {},
   "outputs": [
    {
     "name": "stdout",
     "output_type": "stream",
     "text": [
      "0      Decile_5\n",
      "1      Decile_7\n",
      "2      Decile_6\n",
      "3      Decile_3\n",
      "4      Decile_1\n",
      "5      Decile_5\n",
      "6      Decile_6\n",
      "7      Decile_8\n",
      "8      Decile_4\n",
      "9      Decile_2\n",
      "10    Decile_10\n",
      "11    Decile_10\n",
      "12     Decile_2\n",
      "13     Decile_9\n",
      "14     Decile_3\n",
      "15     Decile_8\n",
      "16     Decile_7\n",
      "17     Decile_1\n",
      "18     Decile_9\n",
      "19     Decile_4\n",
      "dtype: category\n",
      "Categories (10, object): ['Decile_1' < 'Decile_2' < 'Decile_3' < 'Decile_4' ... 'Decile_7' < 'Decile_8' < 'Decile_9' < 'Decile_10']\n"
     ]
    }
   ],
   "source": [
    "\n",
    "deciles = pd.qcut(ser, q=10, labels=[f'Decile_{i}' for i in range(1, 11)])\n",
    "print(deciles)"
   ]
  }
 ],
 "metadata": {
  "kernelspec": {
   "display_name": "base",
   "language": "python",
   "name": "python3"
  },
  "language_info": {
   "codemirror_mode": {
    "name": "ipython",
    "version": 3
   },
   "file_extension": ".py",
   "mimetype": "text/x-python",
   "name": "python",
   "nbconvert_exporter": "python",
   "pygments_lexer": "ipython3",
   "version": "3.11.4"
  }
 },
 "nbformat": 4,
 "nbformat_minor": 2
}
